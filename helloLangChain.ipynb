{
 "cells": [
  {
   "cell_type": "markdown",
   "metadata": {},
   "source": [
    "https://learn.deeplearning.ai/langchain-chat-with-your-data"
   ]
  },
  {
   "cell_type": "code",
   "execution_count": 1,
   "metadata": {},
   "outputs": [],
   "source": [
    "import openai\n",
    "import config\n",
    "openai.api_key = config.OPENAI_KEY\n"
   ]
  },
  {
   "cell_type": "markdown",
   "metadata": {},
   "source": [
    "#### Loading and Chunking Input Documents"
   ]
  },
  {
   "cell_type": "code",
   "execution_count": 2,
   "metadata": {},
   "outputs": [],
   "source": [
    "from langchain.document_loaders import PyPDFLoader\n",
    "loader = PyPDFLoader(\"docs/891100-Weihnachtsbrief.pdf\")\n",
    "pages = loader.load()"
   ]
  },
  {
   "cell_type": "code",
   "execution_count": 4,
   "metadata": {},
   "outputs": [
    {
     "data": {
      "text/plain": [
       "101"
      ]
     },
     "execution_count": 4,
     "metadata": {},
     "output_type": "execute_result"
    }
   ],
   "source": [
    "from langchain.text_splitter import RecursiveCharacterTextSplitter\n",
    "\n",
    "chunk_size = 400\n",
    "chunk_overlap = 200\n",
    "\n",
    "r_splitter = RecursiveCharacterTextSplitter(\n",
    "    chunk_size = chunk_size,\n",
    "    chunk_overlap = chunk_overlap,\n",
    "    separators= [\"\\n\\n\", \"\\n\", \"(?<=\\. )\", \" \", ]\n",
    ")\n",
    "\n",
    "docs = r_splitter.split_documents(pages)\n",
    "len(docs)"
   ]
  },
  {
   "cell_type": "markdown",
   "metadata": {},
   "source": [
    "#### Embedding and VectorDB"
   ]
  },
  {
   "cell_type": "code",
   "execution_count": 5,
   "metadata": {},
   "outputs": [],
   "source": [
    "from langchain.vectorstores import Chroma\n",
    "from langchain.embeddings.openai import OpenAIEmbeddings\n",
    "\n",
    "embedding = OpenAIEmbeddings(openai_api_key=config.OPENAI_KEY)\n",
    "persist_directory = \"chroma/\""
   ]
  },
  {
   "cell_type": "code",
   "execution_count": 6,
   "metadata": {},
   "outputs": [],
   "source": [
    "# new db from documents\n",
    "\n",
    "vectordb = Chroma.from_documents(\n",
    "    documents=docs,\n",
    "    embedding=embedding,\n",
    "    persist_directory=persist_directory\n",
    ")\n",
    "\n",
    "vectordb.persist()"
   ]
  },
  {
   "cell_type": "markdown",
   "metadata": {},
   "source": [
    "#### Retrieving relevant chunks"
   ]
  },
  {
   "cell_type": "code",
   "execution_count": 7,
   "metadata": {},
   "outputs": [],
   "source": [
    "# reopen existing db\n",
    "\n",
    "vectordb = Chroma(\n",
    "    persist_directory=persist_directory,\n",
    "    embedding_function=embedding\n",
    ")"
   ]
  },
  {
   "cell_type": "code",
   "execution_count": 23,
   "metadata": {},
   "outputs": [],
   "source": [
    "question = \"Was haben die beiden im Norden erlebt?\"\n",
    "docs = vectordb.similarity_search(question, k=3)"
   ]
  },
  {
   "cell_type": "code",
   "execution_count": 9,
   "metadata": {},
   "outputs": [],
   "source": [
    "docs = vectordb.max_marginal_relevance_search(question,k=2, fetch_k=3)"
   ]
  },
  {
   "cell_type": "code",
   "execution_count": 10,
   "metadata": {},
   "outputs": [
    {
     "name": "stdout",
     "output_type": "stream",
     "text": [
      "[Document(page_content='der Universitat in Zürich, wo er Volkswirtschaft mit Fleiss und Interesse studiert. \\nEr ist jetzt daran, sich auf sein erstes Vordiplom vorzubereiten. Im Sommer ver\\xad\\ndiente er sich sein Geld an einer Amtsstelle der Stadt Zürich für das Flüchtlings\\xad\\nwesen -ein Kapitel, das die ganze Schweiz sehr beschaftigt. Mir hat Jürg ganz', metadata={'page': 1, 'source': 'docs/891100-Weihnachtsbrief.pdf'}), Document(page_content='in einer gut geführten Meditationsgruppe. \\nUnsere Grosskinder: \\nDie zwei Spindler-Buben in Greifensee sind noch nicht aus dem Streckalter heraus\\xad\\ngekommen. Jürg ist jetzt der grosste Spindler in der Schweiz. Es gefallt ihm an \\nder Universitat in Zürich, wo er Volkswirtschaft mit Fleiss und Interesse studiert. \\nEr ist jetzt daran, sich auf sein erstes Vordiplom vorzubereiten. Im Sommer ver\\xad', metadata={'page': 1, 'source': 'docs/891100-Weihnachtsbrief.pdf'})]\n"
     ]
    }
   ],
   "source": [
    "print(docs)"
   ]
  },
  {
   "cell_type": "markdown",
   "metadata": {},
   "source": [
    "#### Using GPT for question answering"
   ]
  },
  {
   "cell_type": "code",
   "execution_count": 11,
   "metadata": {},
   "outputs": [],
   "source": [
    "from langchain.chat_models import ChatOpenAI\n",
    "llm = ChatOpenAI(openai_api_key=config.OPENAI_KEY, model_name=\"gpt-4\", temperature=0)"
   ]
  },
  {
   "cell_type": "code",
   "execution_count": 24,
   "metadata": {},
   "outputs": [
    {
     "data": {
      "text/plain": [
       "'Der Text gibt nicht explizit an, wer in den Norden gereist ist. Es wird nur erwähnt, dass \"wir\" von Baden nach Hamburg und dann nach Norwegen gereist sind. Es ist daher anzunehmen, dass der Autor oder die Autorin und mindestens eine weitere Person in den Norden gereist sind.'"
      ]
     },
     "execution_count": 24,
     "metadata": {},
     "output_type": "execute_result"
    }
   ],
   "source": [
    "from langchain.chains import RetrievalQA\n",
    "qa_chain = RetrievalQA.from_chain_type(\n",
    "    llm,\n",
    "    retriever=vectordb.as_retriever()\n",
    ")\n",
    "result = qa_chain({\"query\": question})\n",
    "result[\"result\"]"
   ]
  },
  {
   "cell_type": "markdown",
   "metadata": {},
   "source": [
    "#### Using GPT for task generation"
   ]
  },
  {
   "cell_type": "code",
   "execution_count": 11,
   "metadata": {},
   "outputs": [],
   "source": [
    "from langchain.prompts import PromptTemplate\n",
    "\n",
    "# Build prompt\n",
    "template = \"\"\"Erzeuge eine Single-Choice-Aufgabe mit 4 Antwortoptionen, wovon eine richtig ist. Die Aufgabe soll folgendes Wissen prüfen: \n",
    "{context}\n",
    "Single-Choice-Aufgabe:\"\"\"\n",
    "QA_CHAIN_PROMPT = PromptTemplate.from_template(template)"
   ]
  },
  {
   "cell_type": "code",
   "execution_count": 12,
   "metadata": {},
   "outputs": [],
   "source": [
    "qa_chain = RetrievalQA.from_chain_type(\n",
    "    llm,\n",
    "    retriever=vectordb.as_retriever(),\n",
    "    return_source_documents=True,\n",
    "    chain_type_kwargs={\"prompt\": QA_CHAIN_PROMPT}\n",
    ")"
   ]
  },
  {
   "cell_type": "code",
   "execution_count": 15,
   "metadata": {},
   "outputs": [
    {
     "data": {
      "text/plain": [
       "[Document(page_content='zu synthetisieren. Baltimore  erhielt dafür 1975 (im Alter von erst 37 Jahren) den Nobelpreis  für Medi-\\nzin. Ein weiterer Meilenstein in der Genetik war 1967 die Entdeckung  von Enzymen, die die DNA an \\nspezifischen Stellen  schneiden können (Restriktion senzyme; Nobelpreis für Medizin  1978 an Werner', metadata={'page': 3, 'source': 'exampletext.pdf'}),\n",
       " Document(page_content='zu synthetisieren. Baltimore  erhielt dafür 1975 (im Alter von erst 37 Jahren) den Nobelpreis  für Medi-\\nzin. Ein weiterer Meilenstein in der Genetik war 1967 die Entdeckung  von Enzymen, die die DNA an \\nspezifischen Stellen  schneiden können (Restriktion senzyme; Nobelpreis für Medizin  1978 an Werner', metadata={'page': 3, 'source': 'exampletext.pdf'}),\n",
       " Document(page_content='die Richtung de s Informationsflusses (DNA → RNA → Protein) als »Einbahnstraße«. Dieses »zent-\\nrale Dogma der Genetik« wurde 1970 umgestoßen,  als David Baltimore über das Enzym Reverse  \\nTranskriptase  (aus RNA -Tumorviren) berichtete, das in der Lage ist,  anhand einer RNA -Matrize DNA \\nzu synthetisieren. Baltimore  erhielt dafür 1975 (im Alter von erst 37 Jahren) den Nobelpreis  für Medi-', metadata={'page': 3, 'source': 'exampletext.pdf'}),\n",
       " Document(page_content='die Richtung de s Informationsflusses (DNA → RNA → Protein) als »Einbahnstraße«. Dieses »zent-\\nrale Dogma der Genetik« wurde 1970 umgestoßen,  als David Baltimore über das Enzym Reverse  \\nTranskriptase  (aus RNA -Tumorviren) berichtete, das in der Lage ist,  anhand einer RNA -Matrize DNA \\nzu synthetisieren. Baltimore  erhielt dafür 1975 (im Alter von erst 37 Jahren) den Nobelpreis  für Medi-', metadata={'page': 3, 'source': 'exampletext.pdf'})]"
      ]
     },
     "execution_count": 15,
     "metadata": {},
     "output_type": "execute_result"
    }
   ],
   "source": [
    "question = \"Baltimore\"\n",
    "result = qa_chain({\"query\": question})\n",
    "result[\"source_documents\"]"
   ]
  },
  {
   "cell_type": "code",
   "execution_count": 14,
   "metadata": {},
   "outputs": [
    {
     "data": {
      "text/plain": [
       "'Für welche Entdeckung erhielt David Baltimore 1975 den Nobelpreis für Medizin?\\n\\nA) Für die Entdeckung der Restriktionsenzyme\\nB) Für die Entdeckung der Reverse Transkriptase\\nC) Für die Entdeckung der DNA\\nD) Für die Entdeckung der RNA-Tumorviren\\n\\nRichtige Antwort: B) Für die Entdeckung der Reverse Transkriptase'"
      ]
     },
     "execution_count": 14,
     "metadata": {},
     "output_type": "execute_result"
    }
   ],
   "source": [
    "result[\"result\"]"
   ]
  }
 ],
 "metadata": {
  "kernelspec": {
   "display_name": "Python 3",
   "language": "python",
   "name": "python3"
  },
  "language_info": {
   "codemirror_mode": {
    "name": "ipython",
    "version": 3
   },
   "file_extension": ".py",
   "mimetype": "text/x-python",
   "name": "python",
   "nbconvert_exporter": "python",
   "pygments_lexer": "ipython3",
   "version": "3.10.11"
  },
  "orig_nbformat": 4
 },
 "nbformat": 4,
 "nbformat_minor": 2
}
