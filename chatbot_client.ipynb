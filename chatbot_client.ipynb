{
 "cells": [
  {
   "cell_type": "code",
   "execution_count": 1,
   "metadata": {},
   "outputs": [],
   "source": [
    "from chatbot.chatbot import Chatbot"
   ]
  },
  {
   "cell_type": "code",
   "execution_count": null,
   "metadata": {},
   "outputs": [],
   "source": [
    "type_role = \"\"\"\n",
    "    Du bist eine Autorin von Weihnachtsbriefen.\n",
    "    In deinen Briefen teilst Du nachdenkliche Reflexionen oder Updates. \n",
    "    In deinen Briefen werden persönliche Erlebnisse mit breiteren Beobachtungen verwoben. \n",
    "    Du drückst Fürsorge und Interesse am Wohlergehen des Empfängers aus, z.B. indem Du Wünsche äusserst.\n",
    "    Beende alle Antworten auf eine positive und hoffnungsvolle Note, oft mit einem Gefühl von Dankbarkeit oder der Vorfreude auf zukünftige Interaktionen.\n",
    "\"\"\"\n",
    "\n",
    "instance_context = \"\"\"\n",
    "\n",
    "\"\"\"\n",
    "\n",
    "instance_starter = \"\"\"\n",
    "    Beginne die Konversation mit einer herzlichen, persönlichen Begrüssung, um einen nahen, intimen Ton zu etablieren.\n",
    "\"\"\"\n",
    "\n",
    "qa_template_prepend = \"\"\"\n",
    "    Beantworte \n",
    "\"\"\"\n",
    "\n",
    "qa_template_append = \"\"\"\n",
    "\n",
    "\"\"\""
   ]
  },
  {
   "cell_type": "code",
   "execution_count": 2,
   "metadata": {},
   "outputs": [],
   "source": [
    "bot = Chatbot(\n",
    "    database_file=\"database/chatbot.db\",\n",
    "    vectordb_directory=\"chroma/\",\n",
    "    type_id=\"4b9e7b25-08d7-4031-b485-4741ecd48dd1\",\n",
    "    user_id=\"86f2177d-4462-4983-ace8-18a557c8db38\",\n",
    "    type_name=\"Weihnachtsbriefe\",\n",
    "    type_role=\"Du bist ein Assistent, der seine Benutzer beim Durchsuchen von Weihnachtsbriefen hilft.\",\n",
    "    instance_context=\"Du beantwortest die Fragen vom Benutzer aufgrund der Informationen aus den Weihnachtsbriefen.\",\n",
    "    instance_starter=\"Begrüsse den Benutzer.\"\n",
    ")"
   ]
  },
  {
   "cell_type": "code",
   "execution_count": 3,
   "metadata": {},
   "outputs": [
    {
     "name": "stdout",
     "output_type": "stream",
     "text": [
      "[{'role': 'system', 'content': 'Du bist ein Assistent, der seine Benutzer beim Durchsuchen von Weihnachtsbriefen hilft.'}, {'role': 'system', 'content': 'Du beantwortest die Fragen vom Benutzer aufgrund der Informationen aus den Weihnachtsbriefen.'}]\n",
      "{'name': 'Weihnachtsbriefe', 'role': 'Du bist ein Assistent, der seine Benutzer beim Durchsuchen von Weihnachtsbriefen hilft.', 'context': 'Du beantwortest die Fragen vom Benutzer aufgrund der Informationen aus den Weihnachtsbriefen.'}\n"
     ]
    }
   ],
   "source": [
    "bot = Chatbot(\n",
    "    database_file=\"database/chatbot.db\", \n",
    "    vectordb_directory=\"chroma/\",\n",
    "    type_id=\"4b9e7b25-08d7-4031-b485-4741ecd48dd1\",\n",
    "    user_id=\"86f2177d-4462-4983-ace8-18a557c8db38\"\n",
    ")\n",
    "print(bot.conversation_retrieve(with_system=True))\n",
    "print(bot.info_retrieve())"
   ]
  },
  {
   "cell_type": "code",
   "execution_count": 4,
   "metadata": {},
   "outputs": [
    {
     "name": "stdout",
     "output_type": "stream",
     "text": [
      "['Hallo! Wie kann ich Ihnen heute bei den Weihnachtsbriefen helfen?']\n"
     ]
    }
   ],
   "source": [
    "print(bot.start())"
   ]
  },
  {
   "attachments": {},
   "cell_type": "markdown",
   "metadata": {},
   "source": [
    "#### Creating multiple instances of chatbot \"Coach\"\n",
    "In the following, we assume the existence of the bot type created in the cells above. We show example code that will generate N bot instances of that type. Each instance has it's own prompts (instance context and starter) that will be appended to the type prompts. Most importantly, each instance has its own chat history."
   ]
  },
  {
   "cell_type": "code",
   "execution_count": null,
   "metadata": {},
   "outputs": [],
   "source": [
    "import uuid\n",
    "import time"
   ]
  },
  {
   "cell_type": "code",
   "execution_count": null,
   "metadata": {},
   "outputs": [],
   "source": [
    "# Amount of instances to be created\n",
    "number_of_instances = 1\n",
    "\n",
    "# Change the following to a list of hardcoded instance IDs if you want to use existing users.\n",
    "user_ids = [str(uuid.uuid4()) for _ in range(number_of_instances)]\n",
    "\n",
    "c  = 0 # counter for successful requests, don't change\n",
    "error_c = 0 # counter for failed requests, don't change\n",
    "for user_id in user_ids:\n",
    "    bot = Chatbot(\n",
    "        database_file=\"database/chatbot.db\", \n",
    "        type_id=\"4b9e7b25-08d7-4031-b485-4741ecd48dd1\",\n",
    "        user_id=user_id,\n",
    "        instance_context=Chatbot.default_instance_context,\n",
    "        instance_starter=Chatbot.default_instance_starter\n",
    "    )\n",
    "    try:\n",
    "        # each bot should have a first message to the user\n",
    "        print(bot.start())\n",
    "    except:\n",
    "        error_c += 1\n",
    "        continue\n",
    "    c+=1\n",
    "    time.sleep(15) #openai seems to produce more errors if we send the requests too fast.\n",
    "    \n",
    "print(\"successful: {}, failed: {}\".format(c, error_c))\n"
   ]
  },
  {
   "cell_type": "markdown",
   "metadata": {},
   "source": [
    "#### Obtain URLs of all instances of a type\n",
    "We need one instance of that type and can then use the type_instances() function to retrieve all of instance ids. Using these instance ids we can then create URLs such as for pythonanywhere environment."
   ]
  },
  {
   "cell_type": "code",
   "execution_count": null,
   "metadata": {},
   "outputs": [],
   "source": [
    "pythonanywhere_username = \"<ENTER YOUR PYTHONANYWHERE USERNAME HERE>\"\n",
    "type_id = \"4b9e7b25-08d7-4031-b485-4741ecd48dd1\"\n",
    "bot = Chatbot(\n",
    "    database_file=\"database/chatbot.db\", \n",
    "    type_id=type_id,\n",
    "    user_id=user_ids[0]\n",
    ")\n",
    "\n",
    "for user_id in bot.type_instances():\n",
    "    print(\"https://{}.pythonanywhere.com/{}/{}/chat\".format(pythonanywhere_username, type_id, user_id))"
   ]
  }
 ],
 "metadata": {
  "kernelspec": {
   "display_name": "Python 3",
   "language": "python",
   "name": "python3"
  },
  "language_info": {
   "codemirror_mode": {
    "name": "ipython",
    "version": 3
   },
   "file_extension": ".py",
   "mimetype": "text/x-python",
   "name": "python",
   "nbconvert_exporter": "python",
   "pygments_lexer": "ipython3",
   "version": "3.11.7"
  },
  "orig_nbformat": 4
 },
 "nbformat": 4,
 "nbformat_minor": 2
}
