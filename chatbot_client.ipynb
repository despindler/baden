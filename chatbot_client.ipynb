{
 "cells": [
  {
   "cell_type": "code",
   "execution_count": 1,
   "metadata": {},
   "outputs": [],
   "source": [
    "from chatbot.chatbot import Chatbot"
   ]
  },
  {
   "attachments": {},
   "cell_type": "markdown",
   "metadata": {},
   "source": [
    "#### Create a chatbot \"Coach\" for user X"
   ]
  },
  {
   "attachments": {},
   "cell_type": "markdown",
   "metadata": {},
   "source": [
    "In the following, we use the default type_name, type_role, instance_context, and instance_starter defined in the Chatbot class. Provide your own prompts instead."
   ]
  },
  {
   "cell_type": "code",
   "execution_count": 2,
   "metadata": {},
   "outputs": [
    {
     "ename": "TypeError",
     "evalue": "Chatbot.__init__() missing 1 required positional argument: 'vectordb_directory'",
     "output_type": "error",
     "traceback": [
      "\u001b[1;31m---------------------------------------------------------------------------\u001b[0m",
      "\u001b[1;31mTypeError\u001b[0m                                 Traceback (most recent call last)",
      "Cell \u001b[1;32mIn[2], line 1\u001b[0m\n\u001b[1;32m----> 1\u001b[0m bot \u001b[38;5;241m=\u001b[39m \u001b[43mChatbot\u001b[49m\u001b[43m(\u001b[49m\n\u001b[0;32m      2\u001b[0m \u001b[43m    \u001b[49m\u001b[43mdatabase_file\u001b[49m\u001b[38;5;241;43m=\u001b[39;49m\u001b[38;5;124;43m\"\u001b[39;49m\u001b[38;5;124;43mdatabase/chatbot.db\u001b[39;49m\u001b[38;5;124;43m\"\u001b[39;49m\u001b[43m,\u001b[49m\u001b[43m \u001b[49m\n\u001b[0;32m      3\u001b[0m \u001b[43m    \u001b[49m\u001b[43mtype_id\u001b[49m\u001b[38;5;241;43m=\u001b[39;49m\u001b[38;5;124;43m\"\u001b[39;49m\u001b[38;5;124;43m4b9e7b25-08d7-4031-b485-4741ecd48dd1\u001b[39;49m\u001b[38;5;124;43m\"\u001b[39;49m\u001b[43m,\u001b[49m\n\u001b[0;32m      4\u001b[0m \u001b[43m    \u001b[49m\u001b[43muser_id\u001b[49m\u001b[38;5;241;43m=\u001b[39;49m\u001b[38;5;124;43m\"\u001b[39;49m\u001b[38;5;124;43m86f2177d-4462-4983-ace8-18a557c8db38\u001b[39;49m\u001b[38;5;124;43m\"\u001b[39;49m\u001b[43m,\u001b[49m\n\u001b[0;32m      5\u001b[0m \u001b[43m    \u001b[49m\u001b[43mtype_name\u001b[49m\u001b[38;5;241;43m=\u001b[39;49m\u001b[43mChatbot\u001b[49m\u001b[38;5;241;43m.\u001b[39;49m\u001b[43mdefault_type_name\u001b[49m\u001b[43m,\u001b[49m\n\u001b[0;32m      6\u001b[0m \u001b[43m    \u001b[49m\u001b[43mtype_role\u001b[49m\u001b[38;5;241;43m=\u001b[39;49m\u001b[43mChatbot\u001b[49m\u001b[38;5;241;43m.\u001b[39;49m\u001b[43mdefault_type_role\u001b[49m\u001b[43m,\u001b[49m\n\u001b[0;32m      7\u001b[0m \u001b[43m    \u001b[49m\u001b[43minstance_context\u001b[49m\u001b[38;5;241;43m=\u001b[39;49m\u001b[43mChatbot\u001b[49m\u001b[38;5;241;43m.\u001b[39;49m\u001b[43mdefault_instance_context\u001b[49m\u001b[43m,\u001b[49m\n\u001b[0;32m      8\u001b[0m \u001b[43m    \u001b[49m\u001b[43minstance_starter\u001b[49m\u001b[38;5;241;43m=\u001b[39;49m\u001b[43mChatbot\u001b[49m\u001b[38;5;241;43m.\u001b[39;49m\u001b[43mdefault_instance_starter\u001b[49m\n\u001b[0;32m      9\u001b[0m \u001b[43m)\u001b[49m\n",
      "\u001b[1;31mTypeError\u001b[0m: Chatbot.__init__() missing 1 required positional argument: 'vectordb_directory'"
     ]
    }
   ],
   "source": [
    "bot = Chatbot(\n",
    "    database_file=\"database/chatbot.db\",\n",
    "    vectordb_directory=\"chroma/\",\n",
    "    type_id=\"4b9e7b25-08d7-4031-b485-4741ecd48dd1\",\n",
    "    user_id=\"86f2177d-4462-4983-ace8-18a557c8db38\",\n",
    "    type_name=\"Weihnachtsbriefe\",\n",
    "    type_role=\"Du bist ein Assistent, der seine Benutzer beim Durchsuchen von Weihnachtsbriefen hilft.\",\n",
    "    instance_context=\"Du beantwortest die Fragen vom Benutzer aufgrund der Informationen aus den Weihnachtsbriefen.\",\n",
    "    instance_starter=\"Begrüsse den Benutzer.\"\n",
    ")"
   ]
  },
  {
   "attachments": {},
   "cell_type": "markdown",
   "metadata": {},
   "source": [
    "Optionally retrieve the complete conversation (held so far) or the bot information (type_role, instance_context, and instance_starter) as retrieved from the database. Both may be used to display that on a frontend."
   ]
  },
  {
   "cell_type": "code",
   "execution_count": null,
   "metadata": {},
   "outputs": [],
   "source": [
    "bot = Chatbot(\n",
    "    database_file=\"database/chatbot.db\", \n",
    "    vectordb_directory=\"chroma/\",\n",
    "    type_id=\"4b9e7b25-08d7-4031-b485-4741ecd48dd1\",\n",
    "    user_id=\"86f2177d-4462-4983-ace8-18a557c8db38\"\n",
    ")\n",
    "print(bot.conversation_retrieve(with_system=True))\n",
    "print(bot.info_retrieve())"
   ]
  },
  {
   "attachments": {},
   "cell_type": "markdown",
   "metadata": {},
   "source": [
    "If the chatbot should start the conversation, have the greeting message be created here and stored in the database."
   ]
  },
  {
   "cell_type": "code",
   "execution_count": null,
   "metadata": {},
   "outputs": [],
   "source": [
    "print(bot.start())"
   ]
  },
  {
   "attachments": {},
   "cell_type": "markdown",
   "metadata": {},
   "source": [
    "URL to be handed out to the user: If you are following the instructions to deploy your chatbot(s) to pythonanywhere, this is the URL to access your chatbot.\n",
    "\n",
    "##### Generic URL\n",
    "https://[your pythonanywhere user name].pythonanywhere.com/[type id]/[user_id]/chat\n",
    "##### For Example\n",
    "https://monkey23.pythonanywhere.com/053e97a0-6a91-4589-8602-340aa47b6376/7515865e-4097-4dd7-9567-d3c7a4c1ed07/chat"
   ]
  },
  {
   "attachments": {},
   "cell_type": "markdown",
   "metadata": {},
   "source": [
    "#### Creating multiple instances of chatbot \"Coach\"\n",
    "In the following, we assume the existence of the bot type created in the cells above. We show example code that will generate N bot instances of that type. Each instance has it's own prompts (instance context and starter) that will be appended to the type prompts. Most importantly, each instance has its own chat history."
   ]
  },
  {
   "cell_type": "code",
   "execution_count": null,
   "metadata": {},
   "outputs": [],
   "source": [
    "import uuid\n",
    "import time"
   ]
  },
  {
   "cell_type": "code",
   "execution_count": null,
   "metadata": {},
   "outputs": [],
   "source": [
    "# Amount of instances to be created\n",
    "number_of_instances = 1\n",
    "\n",
    "# Change the following to a list of hardcoded instance IDs if you want to use existing users.\n",
    "user_ids = [str(uuid.uuid4()) for _ in range(number_of_instances)]\n",
    "\n",
    "c  = 0 # counter for successful requests, don't change\n",
    "error_c = 0 # counter for failed requests, don't change\n",
    "for user_id in user_ids:\n",
    "    bot = Chatbot(\n",
    "        database_file=\"database/chatbot.db\", \n",
    "        type_id=\"4b9e7b25-08d7-4031-b485-4741ecd48dd1\",\n",
    "        user_id=user_id,\n",
    "        instance_context=Chatbot.default_instance_context,\n",
    "        instance_starter=Chatbot.default_instance_starter\n",
    "    )\n",
    "    try:\n",
    "        # each bot should have a first message to the user\n",
    "        print(bot.start())\n",
    "    except:\n",
    "        error_c += 1\n",
    "        continue\n",
    "    c+=1\n",
    "    time.sleep(15) #openai seems to produce more errors if we send the requests too fast.\n",
    "    \n",
    "print(\"successful: {}, failed: {}\".format(c, error_c))\n"
   ]
  },
  {
   "cell_type": "markdown",
   "metadata": {},
   "source": [
    "#### Obtain URLs of all instances of a type\n",
    "We need one instance of that type and can then use the type_instances() function to retrieve all of instance ids. Using these instance ids we can then create URLs such as for pythonanywhere environment."
   ]
  },
  {
   "cell_type": "code",
   "execution_count": null,
   "metadata": {},
   "outputs": [],
   "source": [
    "pythonanywhere_username = \"<ENTER YOUR PYTHONANYWHERE USERNAME HERE>\"\n",
    "type_id = \"4b9e7b25-08d7-4031-b485-4741ecd48dd1\"\n",
    "bot = Chatbot(\n",
    "    database_file=\"database/chatbot.db\", \n",
    "    type_id=type_id,\n",
    "    user_id=user_ids[0]\n",
    ")\n",
    "\n",
    "for user_id in bot.type_instances():\n",
    "    print(\"https://{}.pythonanywhere.com/{}/{}/chat\".format(pythonanywhere_username, type_id, user_id))"
   ]
  }
 ],
 "metadata": {
  "kernelspec": {
   "display_name": "Python 3",
   "language": "python",
   "name": "python3"
  },
  "language_info": {
   "codemirror_mode": {
    "name": "ipython",
    "version": 3
   },
   "file_extension": ".py",
   "mimetype": "text/x-python",
   "name": "python",
   "nbconvert_exporter": "python",
   "pygments_lexer": "ipython3",
   "version": "3.11.7"
  },
  "orig_nbformat": 4
 },
 "nbformat": 4,
 "nbformat_minor": 2
}
